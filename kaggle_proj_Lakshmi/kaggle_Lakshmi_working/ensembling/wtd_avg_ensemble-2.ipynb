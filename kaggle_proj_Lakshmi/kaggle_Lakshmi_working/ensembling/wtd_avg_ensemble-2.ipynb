{
 "cells": [
  {
   "cell_type": "code",
   "execution_count": 2,
   "metadata": {},
   "outputs": [],
   "source": [
    "#submission_best from https://www.kaggle.com/tunguz/logistic-regression-with-words-and-char-n-grams\n",
    "import numpy as np \n",
    "import pandas as pd \n",
    "from sklearn.preprocessing import minmax_scale\n",
    "\n",
    "#submission_1 = pd.read_csv(\"svcsubmission.csv\")                  #0.925\n",
    "submission_2 = pd.read_csv(\"mysubmission1.csv\")                  #0.975\n",
    "submission_3 = pd.read_csv(\"impwordssub.csv\")                    #0.977\n",
    "submission_4 = pd.read_csv(\"submission_best.csv\")                #0.979\n",
    "\n",
    "blend = submission_4.copy()\n",
    "col = blend.columns\n",
    "\n",
    "col = col.tolist()\n",
    "col.remove('id')\n",
    "\n",
    "b= 0\n",
    "c = 100\n",
    "d = 1000\n",
    "e= 300000000000000000\n",
    "blend[col] = (c*minmax_scale(submission_2[col].values) + d*minmax_scale(submission_3[col].values) + e*minmax_scale(submission_4[col].values))/(b+c+d+e)\n",
    "\n",
    "#blend.to_csv(\"mysubmission2.csv\", index=False)"
   ]
  },
  {
   "cell_type": "code",
   "execution_count": 5,
   "metadata": {},
   "outputs": [],
   "source": [
    "#y_test = \n",
    "y_pred_prob = blend[col]\n",
    "roc_auc_score(y_test, y_pred_prob)"
   ]
  },
  {
   "cell_type": "code",
   "execution_count": 8,
   "metadata": {},
   "outputs": [
    {
     "data": {
      "text/plain": [
       "153164"
      ]
     },
     "execution_count": 8,
     "metadata": {},
     "output_type": "execute_result"
    }
   ],
   "source": [
    "nrow = blend.shape[0]\n",
    "nrow"
   ]
  },
  {
   "cell_type": "code",
   "execution_count": 25,
   "metadata": {},
   "outputs": [
    {
     "name": "stdout",
     "output_type": "stream",
     "text": [
      "0.1632237340367188\n",
      "16.718027734976886\n",
      "0.0633308088062469\n",
      "7.825598704656446\n",
      "0.7443002272074378\n",
      "3.416599200856598\n"
     ]
    }
   ],
   "source": [
    "print (blend.toxic > submission_4.toxic) .sum() *100.0/nrow\n",
    "#print (blend.toxic < submission_4.toxic) .sum()\n",
    "print (blend.severe_toxic > submission_4.severe_toxic) .sum() *100.0/nrow\n",
    "print (blend.obscene > submission_4.obscene) .sum() *100.0/nrow\n",
    "print (blend.threat > submission_4.threat) .sum()*100.0/nrow\n",
    "print (blend.insult > submission_4.insult) .sum() *100.0/nrow\n",
    "print (blend.identity_hate > submission_4.identity_hate) .sum() *100.0/nrow"
   ]
  },
  {
   "cell_type": "code",
   "execution_count": 5,
   "metadata": {},
   "outputs": [
    {
     "data": {
      "text/plain": [
       "0.9790000000000001"
      ]
     },
     "execution_count": 5,
     "metadata": {},
     "output_type": "execute_result"
    }
   ],
   "source": [
    "#a = 1\n",
    "b= 0\n",
    "c = 100\n",
    "d = 1000\n",
    "e= 300000000000000000\n",
    "#((a*0.885) + \n",
    "((b*0.925) + (c*0.975) + (d*0.977) + (e*0.979))/(b+c+d+e)"
   ]
  }
 ],
 "metadata": {
  "kernelspec": {
   "display_name": "Python 2",
   "language": "python",
   "name": "python2"
  },
  "language_info": {
   "codemirror_mode": {
    "name": "ipython",
    "version": 2
   },
   "file_extension": ".py",
   "mimetype": "text/x-python",
   "name": "python",
   "nbconvert_exporter": "python",
   "pygments_lexer": "ipython2",
   "version": "2.7.14"
  }
 },
 "nbformat": 4,
 "nbformat_minor": 2
}
