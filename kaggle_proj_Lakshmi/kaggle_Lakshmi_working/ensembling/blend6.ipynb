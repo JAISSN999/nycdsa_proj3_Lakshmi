{
 "cells": [
  {
   "cell_type": "code",
   "execution_count": 1,
   "metadata": {},
   "outputs": [],
   "source": [
    "\n",
    "#superbend_1 from https://www.kaggle.com/tunguz/blend-of-blends-1/output\n",
    "\n",
    "import numpy as np \n",
    "import pandas as pd \n",
    "from sklearn.preprocessing import minmax_scale\n",
    "\n",
    "submission_1 = pd.read_csv(\"mysubmission5.csv\")                  #0.9843\n",
    "submission_2 = pd.read_csv(\"superblend_1.csv\")                   #0.9854\n",
    "\n",
    "blend = submission_2.copy()\n",
    "col = blend.columns\n",
    "\n",
    "col = col.tolist()\n",
    "col.remove('id')\n",
    "\n",
    "a= 0.5\n",
    "b = 0.5\n",
    "\n",
    "\n",
    "blend[col] = a*minmax_scale(submission_1[col].values) + b*minmax_scale(submission_2[col].values) \n",
    "blend.to_csv(\"mysubmission6.csv\", index=False)\n"
   ]
  },
  {
   "cell_type": "code",
   "execution_count": null,
   "metadata": {},
   "outputs": [],
   "source": []
  }
 ],
 "metadata": {
  "kernelspec": {
   "display_name": "Python 2",
   "language": "python",
   "name": "python2"
  },
  "language_info": {
   "codemirror_mode": {
    "name": "ipython",
    "version": 2
   },
   "file_extension": ".py",
   "mimetype": "text/x-python",
   "name": "python",
   "nbconvert_exporter": "python",
   "pygments_lexer": "ipython2",
   "version": "2.7.14"
  }
 },
 "nbformat": 4,
 "nbformat_minor": 2
}
