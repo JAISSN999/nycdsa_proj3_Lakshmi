{
 "cells": [
  {
   "cell_type": "code",
   "execution_count": 13,
   "metadata": {},
   "outputs": [],
   "source": [
    "#submission_best from https://www.kaggle.com/tunguz/logistic-regression-with-words-and-char-n-grams\n",
    "#superbend1 from https://www.kaggle.com/tunguz/blend-of-blends-1/output\n",
    "\n",
    "import numpy as np \n",
    "import pandas as pd \n",
    "from sklearn.preprocessing import minmax_scale\n",
    "\n",
    "submission_1 = pd.read_csv(\"mysubmission3.csv\")                    #0.9784\n",
    "submission_2 = pd.read_csv(\"mysubmission4.csv\")                    #0.9788\n",
    "submission_3 = pd.read_csv(\"submission_best.csv\")                  #0.9792\n",
    "submission_4 = pd.read_csv(\"superblend_1.csv\")                     #0.9854\n",
    "\n",
    "blend = submission_4.copy()\n",
    "col = blend.columns\n",
    "\n",
    "col = col.tolist()\n",
    "col.remove('id')\n",
    "\n",
    "a= 0\n",
    "b = 0.3\n",
    "c = 0.3\n",
    "d = 0.4\n",
    "\n",
    "blend[col] = a*minmax_scale(submission_1[col].values) + b*minmax_scale(submission_2[col].values) + c*minmax_scale(submission_3[col].values) + d*minmax_scale(submission_4[col].values)\n",
    "\n",
    "blend.to_csv(\"mysubmission5.csv\", index=False)\n"
   ]
  },
  {
   "cell_type": "code",
   "execution_count": 2,
   "metadata": {},
   "outputs": [
    {
     "data": {
      "text/plain": [
       "0.98156"
      ]
     },
     "execution_count": 2,
     "metadata": {},
     "output_type": "execute_result"
    }
   ],
   "source": [
    "a=0\n",
    "b=0.3\n",
    "c=0.3\n",
    "d=0.4\n",
    "(a*0.9784 + b*0.9788 + c*0.9792 + d*0.9854)\n",
    "#/ (a+b+c+d)"
   ]
  },
  {
   "cell_type": "code",
   "execution_count": 14,
   "metadata": {},
   "outputs": [
    {
     "data": {
      "text/plain": [
       "70.76597633908752"
      ]
     },
     "execution_count": 14,
     "metadata": {},
     "output_type": "execute_result"
    }
   ],
   "source": [
    "(blend.toxic > submission_4.toxic) .sum() *100.0/(blend.shape[0])"
   ]
  }
 ],
 "metadata": {
  "kernelspec": {
   "display_name": "Python 2",
   "language": "python",
   "name": "python2"
  },
  "language_info": {
   "codemirror_mode": {
    "name": "ipython",
    "version": 2
   },
   "file_extension": ".py",
   "mimetype": "text/x-python",
   "name": "python",
   "nbconvert_exporter": "python",
   "pygments_lexer": "ipython2",
   "version": "2.7.14"
  }
 },
 "nbformat": 4,
 "nbformat_minor": 2
}
