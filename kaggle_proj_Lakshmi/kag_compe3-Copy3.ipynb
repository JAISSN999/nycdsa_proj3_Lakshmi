{
 "cells": [
  {
   "cell_type": "code",
   "execution_count": 1,
   "metadata": {},
   "outputs": [],
   "source": [
    "import numpy as np\n",
    "import pandas as pd\n",
    "\n",
    "from sklearn.feature_extraction.text import TfidfVectorizer, TfidfTransformer, HashingVectorizer\n",
    "from sklearn.linear_model import LogisticRegression\n",
    "from sklearn.model_selection import cross_val_score\n",
    "from scipy.sparse import hstack\n",
    "\n",
    "from sklearn.model_selection import train_test_split\n",
    "from sklearn.svm import SVC\n",
    "from sklearn.model_selection import StratifiedKFold\n",
    "\n"
   ]
  },
  {
   "cell_type": "code",
   "execution_count": 2,
   "metadata": {},
   "outputs": [],
   "source": [
    "class_names = ['toxic', 'severe_toxic', 'obscene', 'threat', 'insult', 'identity_hate']\n",
    "\n",
    "train = pd.read_csv('F:/notebook_working/kaggle_compe/train.csv').fillna(' ')\n",
    "test = pd.read_csv('F:/notebook_working/kaggle_compe/test.csv').fillna(' ')\n",
    "\n",
    "train_text = train['comment_text']\n",
    "test_text = test['comment_text']\n",
    "all_text = pd.concat([train_text, test_text])\n",
    "\n"
   ]
  },
  {
   "cell_type": "code",
   "execution_count": 10,
   "metadata": {},
   "outputs": [],
   "source": [
    "tox_train = train.loc[train.toxic==1,]\n",
    "sev_train =train.loc[train.severe_toxic==1,]\n",
    "obs_train = train.loc[train.obscene==1,]\n",
    "threat_train = train.loc[train.threat==1,]\n",
    "insult_train  = train.loc[train.insult==1,]\n",
    "identity_train = train.loc[train.identity_hate==1,]\n",
    "all_train = [tox_train, sev_train, obs_train, threat_train, insult_train, identity_train]"
   ]
  },
  {
   "cell_type": "code",
   "execution_count": 11,
   "metadata": {},
   "outputs": [],
   "source": [
    "word_vectorizer = TfidfVectorizer(\n",
    "                    sublinear_tf=True,\n",
    "                    encoding='utf-8',\n",
    "                    lowercase=True,\n",
    "                    min_df=0.00009,\n",
    "                    strip_accents='unicode',\n",
    "                    analyzer='word',\n",
    "                    token_pattern=r'\\w{1,}',\n",
    "                    stop_words='english',\n",
    "                    ngram_range=(1, 1))\n",
    "    "
   ]
  },
  {
   "cell_type": "code",
   "execution_count": 14,
   "metadata": {},
   "outputs": [],
   "source": [
    "char_vectorizer = TfidfVectorizer(\n",
    "                sublinear_tf=True,\n",
    "                strip_accents='unicode',\n",
    "                analyzer='char',\n",
    "                stop_words='english',\n",
    "                ngram_range=(1,1),                 \n",
    "                min_df = 0.0001)\n",
    "                #max_features=10000)"
   ]
  },
  {
   "cell_type": "code",
   "execution_count": null,
   "metadata": {},
   "outputs": [],
   "source": [
    "\n",
    "\n",
    "for x in all_train:\n",
    "    train_text = x['comment_text']    \n",
    "                        \n",
    "    word_vectorizer.fit(train_text)\n",
    "    train_word_features = word_vectorizer.transform(train_text)\n",
    "    char_vectorizer.fit(all_text)\n",
    "    train_char_features = char_vectorizer.transform(train_text)\n",
    "    train_features = hstack([train_char_features, train_word_features])\n",
    "#test_features = hstack([test_char_features, test_word_features])\n",
    "\n",
    "\n",
    "    scores = []\n",
    "    submission = pd.DataFrame.from_dict({'id': test['id']})\n",
    "    for class_name in class_names:\n",
    "        train_target = x[class_name]\n",
    "        X_train, X_valid, y_train, y_valid = train_test_split(train_features, train_target, test_size=0.3, random_state=42)\n",
    "\n",
    "        #skf=StratifiedKFold(n_splits=3, shuffle=False)\n",
    "    \n",
    "        #for train_indices, valid_indices in skf.split(train_features, train_target):\n",
    "         #   X_train, y_train = train_features[train_indices], train_target[train_indices]\n",
    "         #   X_valid, y_valid = train_features[valid_indices], train_target[valid_indices]\n",
    "    \n",
    "        classifier = LogisticRegression()\n",
    "\n",
    "        cv_score = np.mean(cross_val_score(classifier, X_valid, y_valid, cv=3, scoring='roc_auc'))\n",
    "        scores.append(cv_score)\n",
    "        print('CV score for class {} is {}'.format(class_name, cv_score))\n",
    "\n",
    "        classifier.fit(X_train, y_train)\n",
    "    #submission[class_name] = classifier.predict_proba(test_features)[:, 1]\n",
    "\n",
    "        print('Total CV score is {}'.format(np.mean(scores)))\n",
    "\n",
    "\n"
   ]
  },
  {
   "cell_type": "code",
   "execution_count": 29,
   "metadata": {},
   "outputs": [
    {
     "name": "stdout",
     "output_type": "stream",
     "text": [
      "CV score for class toxic is 0.96063005064\n",
      "CV score for class severe_toxic is 0.985030062298\n",
      "CV score for class obscene is 0.981276336101\n",
      "CV score for class threat is 0.975127399673\n",
      "CV score for class insult is 0.971183023061\n",
      "CV score for class identity_hate is 0.970082187264\n",
      "Total CV score is 0.973888176506\n"
     ]
    }
   ],
   "source": [
    "train_features = hstack([train_char_features, train_word_features])\n",
    "#test_features = hstack([test_char_features, test_word_features])\n",
    "\n",
    "\n",
    "scores = []\n",
    "submission = pd.DataFrame.from_dict({'id': test['id']})\n",
    "for class_name in class_names:\n",
    "    train_target = train[class_name]\n",
    "    #X_train, X_valid, y_train, y_valid = train_test_split(train_word_features, train_target, test_size=0.3, random_state=42)\n",
    "\n",
    "    skf=StratifiedKFold(n_splits=3, shuffle=False)\n",
    "    #skf=StratifiedKFold(n_splits=3, shuffle=True)\n",
    "    for train_indices, valid_indices in skf.split(train_word_features, train_target):\n",
    "        X_train, y_train = train_word_features[train_indices], train_target[train_indices]\n",
    "        X_valid, y_valid = train_word_features[valid_indices], train_target[valid_indices]\n",
    "    \n",
    "    classifier = LogisticRegression()\n",
    "\n",
    "    cv_score = np.mean(cross_val_score(classifier, X_valid, y_valid, cv=3, scoring='roc_auc'))\n",
    "    scores.append(cv_score)\n",
    "    print('CV score for class {} is {}'.format(class_name, cv_score))\n",
    "\n",
    "    classifier.fit(X_train, y_train)\n",
    "    #submission[class_name] = classifier.predict_proba(test_features)[:, 1]\n",
    "\n",
    "print('Total CV score is {}'.format(np.mean(scores)))\n",
    "\n",
    "#submission.to_csv('submission.csv', index=False)"
   ]
  },
  {
   "cell_type": "code",
   "execution_count": 13,
   "metadata": {},
   "outputs": [
    {
     "name": "stdout",
     "output_type": "stream",
     "text": [
      "CV score for class toxic is 0.953617374677\n",
      "CV score for class severe_toxic is 0.878066506914\n",
      "CV score for class obscene is 0.978812954813\n",
      "CV score for class threat is 0.885887012223\n",
      "CV score for class insult is 0.95942138282\n",
      "CV score for class identity_hate is 0.871775257044\n",
      "Total CV score is 0.921263414748\n"
     ]
    }
   ],
   "source": [
    "#train_features = hstack([train_char_features, train_word_features])\n",
    "#test_features = hstack([test_char_features, test_word_features])\n",
    "\n",
    "\n",
    "scores = []\n",
    "submission = pd.DataFrame.from_dict({'id': test['id']})\n",
    "for class_name in class_names:\n",
    "    train_target = train[class_name]\n",
    "    X_train, X_valid, y_train, y_valid = train_test_split(train_word_features, train_target, test_size=0.3, random_state=42)\n",
    "\n",
    "    classifier = SVC()\n",
    "\n",
    "    cv_score = np.mean(cross_val_score(classifier, X_valid, y_valid, cv=3, scoring='roc_auc'))\n",
    "    scores.append(cv_score)\n",
    "    print('CV score for class {} is {}'.format(class_name, cv_score))\n",
    "\n",
    "    classifier.fit(X_train, y_train)\n",
    "    #submission[class_name] = classifier.predict_proba(test_features)[:, 1]\n",
    "\n",
    "print('Total CV score is {}'.format(np.mean(scores)))\n",
    "\n",
    "#submission.to_csv('submission.csv', index=False)"
   ]
  },
  {
   "cell_type": "code",
   "execution_count": 9,
   "metadata": {},
   "outputs": [],
   "source": [
    "submission[class_name] = classifier.predict_proba(test_features)[:, 1]\n",
    "submission.to_csv('submission.csv', index=False)"
   ]
  }
 ],
 "metadata": {
  "kernelspec": {
   "display_name": "Python 2",
   "language": "python",
   "name": "python2"
  },
  "language_info": {
   "codemirror_mode": {
    "name": "ipython",
    "version": 2
   },
   "file_extension": ".py",
   "mimetype": "text/x-python",
   "name": "python",
   "nbconvert_exporter": "python",
   "pygments_lexer": "ipython2",
   "version": "2.7.14"
  }
 },
 "nbformat": 4,
 "nbformat_minor": 2
}
